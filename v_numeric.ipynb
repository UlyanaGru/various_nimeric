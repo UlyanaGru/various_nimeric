{
 "cells": [
  {
   "cell_type": "code",
   "execution_count": null,
   "id": "ee8e30bb",
   "metadata": {},
   "outputs": [],
   "source": [
    "# Импорт модуля для чтения и записи данных\n",
    "import sys\n",
    "from itertools import combinations"
   ]
  },
  {
   "cell_type": "code",
   "execution_count": null,
   "id": "3cfe122a",
   "metadata": {},
   "outputs": [],
   "source": [
    "# Функция обработки последовательности\n",
    "\"\"\" Проверяет наличие всех чисел от 0 до 10 включительно в последовательности \"\"\"\n",
    "def all_here(nums):\n",
    "    # Все чила уникальные - создадим пустое множество\n",
    "    init_set = set()\n",
    "    # Добавление каждой цифры последовательности в множество\n",
    "    for num in nums:\n",
    "        # Преобразуем число в строку для итерации по числам\n",
    "        init_set.update(str(num))\n",
    "    # Если получившаяся длина 10 -> все цифры есть\n",
    "    return len(init_set) == 10\n",
    "# Основная функция\n",
    "\"\"\" Получает последовательноть и выводит три числа \"\"\"\n",
    "def main():\n",
    "    # Чтение всех данных и разбивка по пробелам и переводам строки\n",
    "    input = sys.stdin.read().split()\n",
    "    # Pointer на текущую позицию в списке входных данных\n",
    "    ptr = 0\n",
    "    # Чтение количества тестовых наборов\n",
    "    t = int(input[ptr])\n",
    "    # Пробегаемся по набору чисел\n",
    "    ptr += 1\n",
    "    for _ in range(t):\n",
    "        # Чтение количества чисел в текущем ptr тесте\n",
    "        n = int(input[ptr])\n",
    "        ptr += 1\n",
    "        # Созадние списка целых чисел из n чисел в строке (начиная с ptr)\n",
    "        arr = list(map(int, input[ptr:ptr + n]))\n",
    "        # Перевод указателя далее\n",
    "        ptr += n\n",
    "        # Дефолтным значением ставится \"сочетание ненайдено\"\n",
    "        found = False\n",
    "        # Проверка комбинации чисел и массива\n",
    "        for triple in combinations(arr,3):\n",
    "            # Проверка прошла:\n",
    "            if all_here(triple):\n",
    "                # Вывод комбинации\n",
    "                print(*triple)\n",
    "                # Ставится значение \"комбианция найдена\"\n",
    "                found = True\n",
    "                # Выход из цикла\n",
    "                break"
   ]
  },
  {
   "cell_type": "code",
   "execution_count": null,
   "id": "30ff6104",
   "metadata": {},
   "outputs": [],
   "source": [
    "if __name__ == '__main__':\n",
    "    main()"
   ]
  }
 ],
 "metadata": {
  "kernelspec": {
   "display_name": "Python 3",
   "language": "python",
   "name": "python3"
  },
  "language_info": {
   "codemirror_mode": {
    "name": "ipython",
    "version": 3
   },
   "file_extension": ".py",
   "mimetype": "text/x-python",
   "name": "python",
   "nbconvert_exporter": "python",
   "pygments_lexer": "ipython3",
   "version": "3.12.4"
  }
 },
 "nbformat": 4,
 "nbformat_minor": 5
}
